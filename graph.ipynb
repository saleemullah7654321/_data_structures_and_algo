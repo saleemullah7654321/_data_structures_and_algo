{
 "cells": [
  {
   "cell_type": "markdown",
   "metadata": {},
   "source": [
    "# Graph Theory:\n",
    "\n",
    "## Types of Graphs:\n",
    "1. **Vertex/Vertices:**\n",
    "    - Node like A,B,C known as `vertices` for single node `vertex`.\n",
    "2. **Edges:**\n",
    "    - Lines that connect nodes known as `Edges`.\n",
    "3. **Directed Graphs (Digraphs):**\n",
    "    - **Unidirectional Graphs:**\n",
    "        - Movement allowed only in one direction.\n",
    "        - Example: A -> B -> C\n",
    "    - **Bidirectional/Undirectional Graphs:**\n",
    "        - Movement allowed in both directions.\n",
    "        - Example: A - B - C\n",
    "\n",
    "4. **Weighted Graphs:**\n",
    "    - Graphs where edges have associated weights.A -> B (Weight: 10(i.e, time,distance etc...))\n",
    "    - Weighted graph also contain direction and undirectional form.\n",
    "    - possible combinations are:\n",
    "        - directed weighted graph.\n",
    "        - undirected weighted graph.\n",
    "        - directed unweighted graph.\n",
    "        - undirected unweighted graph.\n",
    "5. **Storing a Graph:**\n",
    "    - **Types:**\n",
    "        1. Adjacency List\n",
    "        2. Adjacency Matrix\n",
    "        3. Edge List\n",
    "        4. 2D Matrix (Implicit Graph)\n"
   ]
  },
  {
   "cell_type": "markdown",
   "metadata": {},
   "source": [
    "# 1. Adjacency List"
   ]
  },
  {
   "cell_type": "markdown",
   "metadata": {},
   "source": [
    "**undirected weighted graph**<br>\n",
    "![](./images/adjacency_list_graph.PNG)\n",
    "<br>\n",
    "- V->{s,d}\n",
    "- 0->{0,2}\n",
    "- 1->{1,2}\n",
    "- 1->{1,3}\n",
    "- 2->{2,0}\n",
    "- 2->{2,1}\n",
    "- 2->{2,3,}\n",
    "- 3->{3,1}\n",
    "- 3->{3,2,}"
   ]
  },
  {
   "cell_type": "code",
   "execution_count": 1,
   "metadata": {},
   "outputs": [],
   "source": [
    "class Edge:\n",
    "    def __init__(self, src, dest) -> None:\n",
    "        self.src = src\n",
    "        self.dest = dest\n",
    "        \n",
    "class Graph:\n",
    "    def __init__(self,V=1):\n",
    "        self.vertices = [[] for i in range(V)]\n",
    "        self.V = V\n",
    "    def get_neighbours(self,key):\n",
    "        return [i.dest for i in self.vertices[key]]\n",
    "\n",
    "graph = Graph(V=4)\n",
    "\n",
    "graph.vertices[0].append(Edge(src=0,dest=2))\n",
    "\n",
    "graph.vertices[1].append(Edge(src=1,dest=2))\n",
    "graph.vertices[1].append(Edge(src=1,dest=3))\n",
    "\n",
    "graph.vertices[2].append(Edge(src=2,dest=0))\n",
    "graph.vertices[2].append(Edge(src=2,dest=1))\n",
    "graph.vertices[2].append(Edge(src=2,dest=3))\n",
    "\n",
    "graph.vertices[3].append(Edge(src=3,dest=1))\n",
    "graph.vertices[3].append(Edge(src=3,dest=2))"
   ]
  },
  {
   "cell_type": "code",
   "execution_count": 2,
   "metadata": {},
   "outputs": [
    {
     "name": "stdout",
     "output_type": "stream",
     "text": [
      "0 [2]\n",
      "1 [2, 3]\n",
      "2 [0, 1, 3]\n",
      "3 [1, 2]\n"
     ]
    }
   ],
   "source": [
    "for i in range(graph.V):\n",
    "    print(i,graph.get_neighbours(i))"
   ]
  },
  {
   "cell_type": "markdown",
   "metadata": {},
   "source": [
    "**undirected weighted graph**<br>\n",
    "![](./images/adjancency_list_undirected_weighted_graph.PNG)\n",
    "<br>\n",
    "- V->{s,d,w}\n",
    "- 0->{0,2,2}\n",
    "- 1->{1,2,10}\n",
    "- 1->{1,3,0}\n",
    "- 2->{2,0,2}\n",
    "- 2->{2,1,10}\n",
    "- 2->{2,3,-1}\n",
    "- 3->{3,1,0}\n",
    "- 3->{3,2,-1}"
   ]
  },
  {
   "cell_type": "code",
   "execution_count": 3,
   "metadata": {},
   "outputs": [],
   "source": [
    "class Edge:\n",
    "    def __init__(self, src, dest,weight) -> None:\n",
    "        self.src = src\n",
    "        self.dest = dest\n",
    "        self.weight = weight\n",
    "        \n",
    "class WeightedGraph:\n",
    "    def __init__(self,V=1):\n",
    "        self.vertices = [[] for i in range(V)]\n",
    "        self.V = V\n",
    "    def get_neighbours_with_weights(self,key):\n",
    "        return [(i.dest,i.weight) for i in self.vertices[key]]\n",
    "\n",
    "graph = WeightedGraph(V=4)\n",
    "\n",
    "graph.vertices[0].append(Edge(src=0,dest=2,weight=2))\n",
    "\n",
    "graph.vertices[1].append(Edge(src=1,dest=2,weight=10))\n",
    "graph.vertices[1].append(Edge(src=1,dest=3,weight=0))\n",
    "\n",
    "graph.vertices[2].append(Edge(src=2,dest=0,weight=2))\n",
    "graph.vertices[2].append(Edge(src=2,dest=1,weight=10))\n",
    "graph.vertices[2].append(Edge(src=2,dest=3,weight=-1))\n",
    "\n",
    "graph.vertices[3].append(Edge(src=3,dest=1,weight=0))\n",
    "graph.vertices[3].append(Edge(src=3,dest=2,weight=-1))"
   ]
  },
  {
   "cell_type": "code",
   "execution_count": 4,
   "metadata": {},
   "outputs": [
    {
     "name": "stdout",
     "output_type": "stream",
     "text": [
      "0 [(2, 2)]\n",
      "1 [(2, 10), (3, 0)]\n",
      "2 [(0, 2), (1, 10), (3, -1)]\n",
      "3 [(1, 0), (2, -1)]\n"
     ]
    }
   ],
   "source": [
    "for i in range(graph.V):\n",
    "    print(i,graph.get_neighbours_with_weights(i))"
   ]
  },
  {
   "cell_type": "markdown",
   "metadata": {},
   "source": [
    "**O(x)**\n",
    " - O(x) mean for any vertex we directly access it's neighbours\n",
    " - 2->{0,1,3}\n",
    " -  0->{2}"
   ]
  },
  {
   "cell_type": "markdown",
   "metadata": {},
   "source": [
    "# 2. Adjacency Matrix"
   ]
  },
  {
   "cell_type": "markdown",
   "metadata": {},
   "source": [
    "<img src=\"./images/adjacency_list_graph.PNG\" alt=\"Adjacency Matrix\" width=\"200\"/>\n",
    "<img src=\"./images/adjacency_matrix.PNG\" alt=\"Adjacency Matrix\" width=\"200\"/>"
   ]
  },
  {
   "cell_type": "markdown",
   "metadata": {},
   "source": [
    "- adjacy matrix is not good as adjacency list\n",
    "- If we have have weighted undirected graph then in matrix instead of \n",
    "1 we place edge weight.\n",
    "- O(V), and size of matrix (V*V) is also bigger than adjacency list.\n",
    "- To get neighbours of any node we have to travers all edges either it is connected not not"
   ]
  },
  {
   "cell_type": "markdown",
   "metadata": {},
   "source": [
    "# 3. Edge List\n",
    "<img src=\"./images/adjacency_list_graph.PNG\" alt=\"Adjacency Matrix\" width=\"200\"/><br>\n",
    "**Edges** = {{0,2},{1,2},{1,3},{2,3}}\n",
    "<br>\n",
    "<img src=\"./images/adjancency_list_undirected_weighted_graph.PNG\" alt=\"Adjacency Matrix\" width=\"200\"/><br>\n",
    "**Edges** = {{0,2,2},{1,2,10},{1,3,0},{2,3,-1}}\n",
    "- Minimum Spanning Tree(MST)->Edges sort \n",
    "- we can sort this Edge List Graph on the basis of dest or weight\n",
    "- on the basis of weight:\n",
    "    {{2,3,-1},{1,3,0},{0,2,2},{1,2,10}}"
   ]
  },
  {
   "cell_type": "markdown",
   "metadata": {},
   "source": [
    "# 4. Implicit Graph\n",
    "<img src=\"./images/implicit_graph.PNG\" alt=\"Adjacency Matrix\" width=\"600\"/><br>"
   ]
  },
  {
   "cell_type": "markdown",
   "metadata": {},
   "source": [
    "# Graph Traversals\n",
    "- Breath First Search(BFS)\n",
    "- Depth First Search(DFS)"
   ]
  },
  {
   "cell_type": "markdown",
   "metadata": {},
   "source": [
    "# **BFS**\n",
    "    - create queue\n",
    "    - create graph using adjacency list\n",
    "## 1. Create Queue"
   ]
  },
  {
   "cell_type": "code",
   "execution_count": 5,
   "metadata": {},
   "outputs": [],
   "source": [
    "class Node:\n",
    "    def __init__(self,data) -> None:\n",
    "        self.data = data\n",
    "        self.next = None\n",
    "\n",
    "class Queue:\n",
    "    def __init__(self) -> None:\n",
    "        self.head = None\n",
    "    \n",
    "    def enqueue(self,data):\n",
    "        new_node = Node(data=data)\n",
    "        if self.head is None:\n",
    "            self.head = new_node\n",
    "            return\n",
    "        current_node = self.head\n",
    "        while current_node.next is not None:\n",
    "            current_node = current_node.next\n",
    "        current_node.next = new_node\n",
    "    \n",
    "    def dequeue(self):\n",
    "        if self.head is None:\n",
    "            print('Queue is Empty!')\n",
    "            return None\n",
    "        result = self.head\n",
    "        self.head = result.next\n",
    "        return result.data\n",
    "    \n",
    "    def isempty(self):\n",
    "        return False if self.head else True"
   ]
  },
  {
   "cell_type": "code",
   "execution_count": 6,
   "metadata": {},
   "outputs": [
    {
     "data": {
      "text/plain": [
       "True"
      ]
     },
     "execution_count": 6,
     "metadata": {},
     "output_type": "execute_result"
    }
   ],
   "source": [
    "queue = Queue()\n",
    "queue.isempty()"
   ]
  },
  {
   "cell_type": "markdown",
   "metadata": {},
   "source": [
    "## 2. Creat Adjacency List Graph"
   ]
  },
  {
   "cell_type": "code",
   "execution_count": 7,
   "metadata": {},
   "outputs": [],
   "source": [
    "class Edge:\n",
    "    def __init__(self,src, dest,weight=None) -> None:\n",
    "        self.src = src\n",
    "        self.dest = dest\n",
    "\n",
    "class Graph:\n",
    "    def __init__(self,V=0) -> None:\n",
    "        self.vertices = [[] for i in range(V)]\n",
    "    \n",
    "    def add_node(self,vertex,neighbours):\n",
    "        for dest in neighbours:\n",
    "            self.vertices[vertex].append(Edge(src=vertex,dest=dest))\n",
    "    \n",
    "    def get_neighbours(self,key):\n",
    "        return [i.dest for i in self.vertices[key]]"
   ]
  },
  {
   "cell_type": "code",
   "execution_count": 8,
   "metadata": {},
   "outputs": [
    {
     "data": {
      "text/plain": [
       "[2, 3]"
      ]
     },
     "execution_count": 8,
     "metadata": {},
     "output_type": "execute_result"
    }
   ],
   "source": [
    "graph = Graph(V=4)\n",
    "\n",
    "graph.add_node(vertex=1,neighbours=[2,3])\n",
    "\n",
    "graph.get_neighbours(1)"
   ]
  },
  {
   "cell_type": "markdown",
   "metadata": {},
   "source": [
    "## 3. BFS\n",
    "    - BFS O(V+E)\n",
    "<img src=\"./images/BFS.PNG\" alt=\"Adjacency Matrix\" width=\"200\"/><br>"
   ]
  },
  {
   "cell_type": "code",
   "execution_count": 9,
   "metadata": {},
   "outputs": [
    {
     "data": {
      "text/plain": [
       "[3, 4, 6]"
      ]
     },
     "execution_count": 9,
     "metadata": {},
     "output_type": "execute_result"
    }
   ],
   "source": [
    "graph = Graph(V=7)\n",
    "\n",
    "graph.add_node(vertex=0,neighbours=[1,2])\n",
    "\n",
    "graph.add_node(vertex=1,neighbours=[0,3])\n",
    "\n",
    "graph.add_node(vertex=2,neighbours=[0,4])\n",
    "\n",
    "graph.add_node(vertex=3,neighbours=[1,4,5])\n",
    "\n",
    "graph.add_node(vertex=4,neighbours=[2,3,5])\n",
    "\n",
    "graph.add_node(vertex=5,neighbours=[3,4,6])\n",
    "\n",
    "graph.add_node(vertex=6,neighbours=[5])\n",
    "\n",
    "graph.get_neighbours(5)"
   ]
  },
  {
   "cell_type": "code",
   "execution_count": 10,
   "metadata": {},
   "outputs": [
    {
     "name": "stdout",
     "output_type": "stream",
     "text": [
      "0\n",
      "1\n",
      "2\n",
      "3\n",
      "4\n",
      "5\n",
      "6\n"
     ]
    }
   ],
   "source": [
    "visited = [False for i in graph.vertices]\n",
    "q = Queue()\n",
    "# start from node 0 and level wise traverse\n",
    "current = 0\n",
    "q.enqueue(current)\n",
    "while not q.isempty():\n",
    "    current = q.dequeue()\n",
    "    if visited[current]==False:\n",
    "        print(current)\n",
    "        visited[current]=True\n",
    "        _=[q.enqueue(neighbour) for neighbour in graph.get_neighbours(current)]"
   ]
  },
  {
   "cell_type": "markdown",
   "metadata": {},
   "source": [
    "**BFS run on Disconnected Graph**\n",
    " - Graph is consist on 2 compnenets\n",
    "    - component 1 is 0-1-2\n",
    "    - component 2 is 3-4\n",
    "    \n",
    "We will see how BFS run for disconnected graph."
   ]
  },
  {
   "cell_type": "code",
   "execution_count": 11,
   "metadata": {},
   "outputs": [
    {
     "name": "stdout",
     "output_type": "stream",
     "text": [
      "0\n",
      "1\n",
      "2\n",
      "3\n",
      "4\n"
     ]
    }
   ],
   "source": [
    "graph = Graph(V=5)\n",
    "\n",
    "graph.add_node(vertex=0,neighbours=[1])\n",
    "graph.add_node(vertex=1,neighbours=[2])\n",
    "graph.add_node(vertex=2,neighbours=[])\n",
    "graph.add_node(vertex=3,neighbours=[4])\n",
    "graph.add_node(vertex=4,neighbours=[])\n",
    "\n",
    "graph.get_neighbours(4)\n",
    "\n",
    "visited = [False for i in graph.vertices]\n",
    "queue = Queue()\n",
    "while not all(visited):\n",
    "    for idx,i in enumerate(visited):\n",
    "        if not i:\n",
    "            current = idx\n",
    "            break\n",
    "    queue.enqueue(current)\n",
    "    while not queue.isempty():\n",
    "        current = queue.dequeue()\n",
    "        if not visited[current]:\n",
    "            print(current)\n",
    "            visited[current]=True\n",
    "            _ = [queue.enqueue(neighbour)\n",
    "                 for neighbour in graph.get_neighbours(current)]\n",
    "\n"
   ]
  },
  {
   "cell_type": "markdown",
   "metadata": {},
   "source": [
    "# **DFS**\n",
    "    - Recursion\n",
    "    - Keep going to the 1st neighbour\n",
    "    - create graph using adjacency list\n",
    "<img src=\"./images/DFS.PNG\" width=\"400\"/><br>"
   ]
  },
  {
   "cell_type": "code",
   "execution_count": 12,
   "metadata": {},
   "outputs": [
    {
     "data": {
      "text/plain": [
       "[3, 4, 6]"
      ]
     },
     "execution_count": 12,
     "metadata": {},
     "output_type": "execute_result"
    }
   ],
   "source": [
    "graph = Graph(V=7)\n",
    "\n",
    "graph.add_node(vertex=0,neighbours=[1,2])\n",
    "\n",
    "graph.add_node(vertex=1,neighbours=[0,3])\n",
    "\n",
    "graph.add_node(vertex=2,neighbours=[0,4])\n",
    "\n",
    "graph.add_node(vertex=3,neighbours=[1,4,5])\n",
    "\n",
    "graph.add_node(vertex=4,neighbours=[2,3,5])\n",
    "\n",
    "graph.add_node(vertex=5,neighbours=[3,4,6])\n",
    "\n",
    "graph.add_node(vertex=6,neighbours=[5])\n",
    "\n",
    "graph.get_neighbours(5)"
   ]
  },
  {
   "cell_type": "code",
   "execution_count": 13,
   "metadata": {},
   "outputs": [
    {
     "name": "stdout",
     "output_type": "stream",
     "text": [
      "0\n",
      "1\n",
      "3\n",
      "4\n",
      "2\n",
      "5\n",
      "6\n"
     ]
    }
   ],
   "source": [
    "visited = [False for i in graph.vertices]\n",
    "def DFS(graph,current,visited):\n",
    "    if visited[current]==False:\n",
    "        print(current)\n",
    "        visited[current]=True\n",
    "        for neighbour in graph.get_neighbours(current):\n",
    "            DFS(graph,neighbour,visited=visited)\n",
    "DFS(graph,current = 0,visited = visited)"
   ]
  },
  {
   "cell_type": "markdown",
   "metadata": {},
   "source": [
    "# **ALL paths from Source to Target**\n",
    "<img src=\"./images/all_path_dfs.PNG\" width=\"400\"/><br>"
   ]
  },
  {
   "cell_type": "code",
   "execution_count": 14,
   "metadata": {},
   "outputs": [
    {
     "data": {
      "text/plain": [
       "[3, 4, 6]"
      ]
     },
     "execution_count": 14,
     "metadata": {},
     "output_type": "execute_result"
    }
   ],
   "source": [
    "graph = Graph(V=7)\n",
    "\n",
    "graph.add_node(vertex=0,neighbours=[1,2])\n",
    "\n",
    "graph.add_node(vertex=1,neighbours=[0,3])\n",
    "\n",
    "graph.add_node(vertex=2,neighbours=[0,4])\n",
    "\n",
    "graph.add_node(vertex=3,neighbours=[1,4,5])\n",
    "\n",
    "graph.add_node(vertex=4,neighbours=[2,3,5])\n",
    "\n",
    "graph.add_node(vertex=5,neighbours=[3,4,6])\n",
    "\n",
    "graph.add_node(vertex=6,neighbours=[5])\n",
    "\n",
    "graph.get_neighbours(5)"
   ]
  },
  {
   "cell_type": "code",
   "execution_count": 15,
   "metadata": {},
   "outputs": [
    {
     "name": "stdout",
     "output_type": "stream",
     "text": [
      "01345\n",
      "0135\n",
      "02435\n",
      "0245\n"
     ]
    }
   ],
   "source": [
    "src = 0\n",
    "target = 5\n",
    "visited = [False for i in graph.vertices]\n",
    "def modified_DFS(\n",
    "    graph,visited,current,path,target\n",
    "):\n",
    "    if not visited[current]:\n",
    "        if current==target:\n",
    "            path+=str(current)\n",
    "            print(path)\n",
    "            return\n",
    "        if visited[current]==False:\n",
    "            visited[current] = True\n",
    "            path+=str(current)\n",
    "            neighbours = graph.get_neighbours(current)\n",
    "            for i in neighbours:\n",
    "                modified_DFS(graph,visited,\n",
    "                            current=i,path=path,\n",
    "                            target=target)\n",
    "            visited[current] = False\n",
    "                    \n",
    "                \n",
    "\n",
    "modified_DFS(graph,visited,current=src,\n",
    "             path='',target=target)"
   ]
  },
  {
   "cell_type": "markdown",
   "metadata": {},
   "source": [
    "# **Cycle Detection**\n",
    "<img src=\"./images/DFS_cycle.PNG\" width=\"600\"/><br>"
   ]
  },
  {
   "cell_type": "code",
   "execution_count": 16,
   "metadata": {},
   "outputs": [
    {
     "data": {
      "text/plain": [
       "[3]"
      ]
     },
     "execution_count": 16,
     "metadata": {},
     "output_type": "execute_result"
    }
   ],
   "source": [
    "graph = Graph(V=4)\n",
    "\n",
    "graph.add_node(vertex=1,neighbours=[0])\n",
    "\n",
    "graph.add_node(vertex=0,neighbours=[2])\n",
    "\n",
    "graph.add_node(vertex=2,neighbours=[3])\n",
    "\n",
    "graph.add_node(vertex=3,neighbours=[0])\n",
    "\n",
    "graph.get_neighbours(key=2)"
   ]
  },
  {
   "cell_type": "code",
   "execution_count": 17,
   "metadata": {},
   "outputs": [
    {
     "name": "stdout",
     "output_type": "stream",
     "text": [
      ">>current 0\n",
      "child: 2\n",
      "recursion: [True, False, False, False]\n",
      "visited: [True, False, False, False]\n",
      ">>current 2\n",
      "child: 3\n",
      "recursion: [True, False, True, False]\n",
      "visited: [True, False, True, False]\n",
      ">>current 3\n",
      "child: 0\n",
      "recursion: [True, False, True, True]\n",
      "visited: [True, False, True, True]\n"
     ]
    },
    {
     "data": {
      "text/plain": [
       "True"
      ]
     },
     "execution_count": 17,
     "metadata": {},
     "output_type": "execute_result"
    }
   ],
   "source": [
    "def DFS_cycle_detection(graph,current,visited,recursion):\n",
    "    visited[current]=True\n",
    "    recursion[current]=True\n",
    "    print('>>current',current)\n",
    "    for i in graph.get_neighbours(current):\n",
    "        print(\"child:\",i)\n",
    "        print('recursion:',recursion)\n",
    "        print('visited:',visited)\n",
    "        if recursion[i]:\n",
    "            return True\n",
    "        elif not visited[i]:\n",
    "            res= DFS_cycle_detection(graph,i,visited,recursion)\n",
    "            if res:\n",
    "                return True\n",
    "    recursion[current]=False    \n",
    "    return False\n",
    "\n",
    "visited = [False for i in graph.vertices]\n",
    "recursion = [False for i in graph.vertices]\n",
    "start = 0\n",
    "DFS_cycle_detection(graph,start,visited,recursion)"
   ]
  },
  {
   "cell_type": "markdown",
   "metadata": {},
   "source": [
    "**disconnected graph cycle detection**"
   ]
  },
  {
   "cell_type": "code",
   "execution_count": 18,
   "metadata": {},
   "outputs": [
    {
     "data": {
      "text/plain": [
       "[3]"
      ]
     },
     "execution_count": 18,
     "metadata": {},
     "output_type": "execute_result"
    }
   ],
   "source": [
    "graph = Graph(V=4)\n",
    "\n",
    "graph.add_node(vertex=1,neighbours=[0])\n",
    "\n",
    "graph.add_node(vertex=0,neighbours=[2])\n",
    "\n",
    "graph.add_node(vertex=2,neighbours=[3])\n",
    "\n",
    "graph.add_node(vertex=3,neighbours=[0])\n",
    "\n",
    "graph.get_neighbours(key=2)"
   ]
  },
  {
   "cell_type": "code",
   "execution_count": 19,
   "metadata": {},
   "outputs": [
    {
     "name": "stdout",
     "output_type": "stream",
     "text": [
      ">>current 0\n",
      "child: 2\n",
      "recursion: [True, False, False, False]\n",
      "visited: [True, False, False, False]\n",
      ">>current 2\n",
      "child: 3\n",
      "recursion: [True, False, True, False]\n",
      "visited: [True, False, True, False]\n",
      ">>current 3\n",
      "child: 0\n",
      "recursion: [True, False, True, True]\n",
      "visited: [True, False, True, True]\n",
      "True\n"
     ]
    }
   ],
   "source": [
    "def DFS_cycle_detection(graph,current,visited,recursion):\n",
    "    visited[current]=True\n",
    "    recursion[current]=True\n",
    "    print('>>current',current)\n",
    "    for i in graph.get_neighbours(current):\n",
    "        print(\"child:\",i)\n",
    "        print('recursion:',recursion)\n",
    "        print('visited:',visited)\n",
    "        if recursion[i]:\n",
    "            return True\n",
    "        elif not visited[i]:\n",
    "            res= DFS_cycle_detection(graph,i,visited,recursion)\n",
    "            if res:\n",
    "                return True\n",
    "    recursion[current]=False    \n",
    "    return False\n",
    "\n",
    "visited = [False for i in graph.vertices]\n",
    "recursion = [False for i in graph.vertices]\n",
    "\n",
    "for idx,node_visited in enumerate(visited):\n",
    "    if not node_visited:\n",
    "        start = idx\n",
    "        res = DFS_cycle_detection(graph,start,visited,recursion)\n",
    "        if res:\n",
    "            print(res)\n",
    "            break\n",
    "            "
   ]
  },
  {
   "cell_type": "markdown",
   "metadata": {},
   "source": [
    "# **Dry run cycle detection**\n",
    "<img src=\"./images/DFS_cycle_2.PNG\" width=\"400\"/><br>"
   ]
  },
  {
   "cell_type": "code",
   "execution_count": 20,
   "metadata": {},
   "outputs": [
    {
     "data": {
      "text/plain": [
       "[1, 3]"
      ]
     },
     "execution_count": 20,
     "metadata": {},
     "output_type": "execute_result"
    }
   ],
   "source": [
    "graph = Graph(V=5)\n",
    "\n",
    "graph.add_node(vertex=0,neighbours=[1])\n",
    "\n",
    "graph.add_node(vertex=2,neighbours=[1])\n",
    "\n",
    "graph.add_node(vertex=2,neighbours=[3])\n",
    "\n",
    "graph.add_node(vertex=3,neighbours=[4])\n",
    "\n",
    "graph.add_node(vertex=4,neighbours=[2])\n",
    "\n",
    "graph.get_neighbours(key=2)"
   ]
  },
  {
   "cell_type": "code",
   "execution_count": 21,
   "metadata": {},
   "outputs": [
    {
     "name": "stdout",
     "output_type": "stream",
     "text": [
      ">>current 0\n",
      "child: 1\n",
      "recursion: [True, False, False, False, False]\n",
      "visited: [True, False, False, False, False]\n",
      ">>current 1\n",
      ">>current 2\n",
      "child: 1\n",
      "recursion: [False, False, True, False, False]\n",
      "visited: [True, True, True, False, False]\n",
      "child: 3\n",
      "recursion: [False, False, True, False, False]\n",
      "visited: [True, True, True, False, False]\n",
      ">>current 3\n",
      "child: 4\n",
      "recursion: [False, False, True, True, False]\n",
      "visited: [True, True, True, True, False]\n",
      ">>current 4\n",
      "child: 2\n",
      "recursion: [False, False, True, True, True]\n",
      "visited: [True, True, True, True, True]\n",
      "True\n"
     ]
    }
   ],
   "source": [
    "def DFS_cycle_detection(graph,current,visited,recursion):\n",
    "    visited[current]=True\n",
    "    recursion[current]=True\n",
    "    print('>>current',current)\n",
    "    for i in graph.get_neighbours(current):\n",
    "        print(\"child:\",i)\n",
    "        print('recursion:',recursion)\n",
    "        print('visited:',visited)\n",
    "        if recursion[i]:\n",
    "            return True\n",
    "        elif not visited[i]:\n",
    "            res= DFS_cycle_detection(graph,i,visited,recursion)\n",
    "            if res:\n",
    "                return True\n",
    "    recursion[current]=False    \n",
    "    return False\n",
    "\n",
    "visited = [False for i in graph.vertices]\n",
    "recursion = [False for i in graph.vertices]\n",
    "\n",
    "for idx,node_visited in enumerate(visited):\n",
    "    if not node_visited:\n",
    "        start = idx\n",
    "        res = DFS_cycle_detection(graph,start,visited,recursion)\n",
    "        if res:\n",
    "            print(res)\n",
    "            break\n",
    "            "
   ]
  },
  {
   "cell_type": "markdown",
   "metadata": {},
   "source": [
    "# **Topological Sorting(DAG)**\n",
    "<img src=\"./images/topological_sorting.PNG\" width=\"400\"/><br>\n",
    "\n",
    "## Dependency\n",
    "- Action 1- buy laptop\n",
    "- Action 2- istall os\n",
    "- Action 3- install code editor\n",
    "- Action 4- install python\n",
    "- Action 5- write code\n",
    "<br>\n",
    "<img src=\"./images/topological_sorting_example.PNG\" width=\"100\"/><br>\n",
    "<img src=\"./images/topological_sorting_problem.PNG\" width=\"400\"/><br>"
   ]
  },
  {
   "cell_type": "code",
   "execution_count": 22,
   "metadata": {},
   "outputs": [],
   "source": [
    "class Node:\n",
    "    def __init__(self,data) -> None:\n",
    "        self.data = data\n",
    "        self.next=None\n",
    "        \n",
    "class Stack:\n",
    "    def __init__(self) -> None:\n",
    "        self.head = None\n",
    "    \n",
    "    def push(self,data):\n",
    "        new_node = Node(data)\n",
    "        temp = self.head\n",
    "        self.head = new_node\n",
    "        self.head.next = temp\n",
    "    \n",
    "    def pop(self):\n",
    "        if self.head is None:\n",
    "            print(\"Stack is Empty!\")\n",
    "            return None\n",
    "        res = self.head.data\n",
    "        self.head = self.head.next\n",
    "        return res\n",
    "    def is_empty(self):\n",
    "        return True if self.head is None else False"
   ]
  },
  {
   "cell_type": "code",
   "execution_count": 23,
   "metadata": {},
   "outputs": [],
   "source": [
    "graph = Graph(V=6)\n",
    "graph.add_node(vertex=5,neighbours=[0,2])\n",
    "\n",
    "graph.add_node(vertex=4,neighbours=[0,1])\n",
    "\n",
    "graph.add_node(vertex=2,neighbours=[3])\n",
    "\n",
    "graph.add_node(vertex=3,neighbours=[1])\n",
    "\n",
    "graph.add_node(vertex=1,neighbours=[])\n",
    "\n",
    "graph.add_node(vertex=0,neighbours=[])"
   ]
  },
  {
   "cell_type": "code",
   "execution_count": 24,
   "metadata": {},
   "outputs": [
    {
     "name": "stdout",
     "output_type": "stream",
     "text": [
      "5\n",
      "4\n",
      "2\n",
      "3\n",
      "1\n",
      "0\n"
     ]
    }
   ],
   "source": [
    "def toplogical_sort(graph,visited,current,stack):\n",
    "    visited[current] = True\n",
    "    \n",
    "    for i in graph.get_neighbours(current):\n",
    "        if not visited[i]:\n",
    "            toplogical_sort(graph,visited,i,stack)\n",
    "    stack.push(current)\n",
    "\n",
    "\n",
    "stack = Stack()\n",
    "visited = [False for i in graph.vertices]\n",
    "\n",
    "for idx,node_visited in enumerate(visited):\n",
    "    if not node_visited:\n",
    "        toplogical_sort(graph,visited,idx,stack)\n",
    "\n",
    "while not stack.is_empty():\n",
    "    print(stack.pop())"
   ]
  },
  {
   "cell_type": "markdown",
   "metadata": {},
   "source": [
    "# **Cycle Detection**\n",
    "<img src=\"images/cycle_detection.PNG\" width=\"400\">"
   ]
  },
  {
   "cell_type": "markdown",
   "metadata": {},
   "source": [
    "## **Cycle Detection for Undirected**\n",
    "<img src=\"images/cycle_detection_undirected.PNG\" width=\"400\">\n",
    "<img src=\"images/cycle_detection_undirected_problem.PNG\" width=\"400\">"
   ]
  },
  {
   "cell_type": "code",
   "execution_count": 25,
   "metadata": {},
   "outputs": [
    {
     "data": {
      "text/plain": [
       "[0, 2, 4]"
      ]
     },
     "execution_count": 25,
     "metadata": {},
     "output_type": "execute_result"
    }
   ],
   "source": [
    "graph = Graph(V=6)\n",
    "\n",
    "graph.add_node(vertex=0,neighbours=[1,4])\n",
    "\n",
    "graph.add_node(vertex=1,neighbours=[0,2,4])\n",
    "\n",
    "graph.add_node(vertex=2,neighbours=[1,3])\n",
    "\n",
    "graph.add_node(vertex=3,neighbours=[2])\n",
    "\n",
    "graph.add_node(vertex=4,neighbours=[0,1,5])\n",
    "\n",
    "graph.add_node(vertex=5,neighbours=[4])\n",
    "\n",
    "graph.get_neighbours(1)"
   ]
  },
  {
   "cell_type": "code",
   "execution_count": 26,
   "metadata": {},
   "outputs": [
    {
     "name": "stdout",
     "output_type": "stream",
     "text": [
      "cycle detected!\n"
     ]
    }
   ],
   "source": [
    "def undirected_graph_cycle_detection(graph,visited,current,parent):\n",
    "    visited[current]=True\n",
    "    \n",
    "    for i in graph.get_neighbours(current):\n",
    "        if not visited[i]:\n",
    "            undirected_graph_cycle_detection(graph,visited,current=i,\n",
    "                                             parent=current)\n",
    "        elif visited[i] and i!=parent:\n",
    "            return True\n",
    "\n",
    "visited = [False for i in graph.vertices]\n",
    "\n",
    "for idx,node_visited in enumerate(visited):\n",
    "    if not node_visited:\n",
    "        if undirected_graph_cycle_detection(graph,visited,idx,''):\n",
    "            print('cycle detected!')\n",
    "            break\n",
    "else:\n",
    "    print('no cycle detected!')"
   ]
  },
  {
   "cell_type": "markdown",
   "metadata": {},
   "source": [
    "<img src=\"images/cycle_detection_undirected_problem2.PNG\" width=\"300\">"
   ]
  },
  {
   "cell_type": "code",
   "execution_count": 27,
   "metadata": {},
   "outputs": [
    {
     "data": {
      "text/plain": [
       "[0, 2]"
      ]
     },
     "execution_count": 27,
     "metadata": {},
     "output_type": "execute_result"
    }
   ],
   "source": [
    "graph = Graph(V=6)\n",
    "\n",
    "graph.add_node(vertex=0,neighbours=[1,4])\n",
    "\n",
    "graph.add_node(vertex=1,neighbours=[0,2])\n",
    "\n",
    "graph.add_node(vertex=2,neighbours=[1,3])\n",
    "\n",
    "graph.add_node(vertex=3,neighbours=[2])\n",
    "\n",
    "graph.add_node(vertex=4,neighbours=[0,5])\n",
    "\n",
    "graph.add_node(vertex=5,neighbours=[4])\n",
    "\n",
    "graph.get_neighbours(1)"
   ]
  },
  {
   "cell_type": "code",
   "execution_count": 28,
   "metadata": {},
   "outputs": [
    {
     "name": "stdout",
     "output_type": "stream",
     "text": [
      "no cycle detected!\n"
     ]
    }
   ],
   "source": [
    "def undirected_graph_cycle_detection(graph,visited,current,parent):\n",
    "    visited[current]=True\n",
    "    \n",
    "    for i in graph.get_neighbours(current):\n",
    "        if not visited[i]:\n",
    "            undirected_graph_cycle_detection(graph,visited,current=i,\n",
    "                                             parent=current)\n",
    "        elif visited[i] and i!=parent:\n",
    "            return True\n",
    "\n",
    "visited = [False for i in graph.vertices]\n",
    "\n",
    "for idx,node_visited in enumerate(visited):\n",
    "    if not node_visited:\n",
    "        if undirected_graph_cycle_detection(graph,visited,idx,''):\n",
    "            print('cycle detected!')\n",
    "            break\n",
    "else:\n",
    "    print('no cycle detected!')"
   ]
  },
  {
   "cell_type": "markdown",
   "metadata": {},
   "source": [
    "# **Shortest Distance**\n"
   ]
  },
  {
   "cell_type": "code",
   "execution_count": 29,
   "metadata": {},
   "outputs": [],
   "source": [
    "\n",
    "class PriorityQueue:\n",
    "    def __init__(self):\n",
    "        self.data = []\n",
    "    \n",
    "    def dequeue(self):\n",
    "        if self.data:\n",
    "            return self.data.pop(0)\n",
    "        print('Queue is Empty!')\n",
    "        return None\n",
    "    \n",
    "    def enqueue(self, val):\n",
    "        self.data.append(val)\n",
    "        self.data = sorted(self.data,key=lambda x:x[1])\n",
    "    \n",
    "    def is_empty(self):\n",
    "        return False if self.data else True"
   ]
  },
  {
   "cell_type": "code",
   "execution_count": 30,
   "metadata": {},
   "outputs": [
    {
     "data": {
      "text/plain": [
       "True"
      ]
     },
     "execution_count": 30,
     "metadata": {},
     "output_type": "execute_result"
    }
   ],
   "source": [
    "q=PriorityQueue()\n",
    "q.is_empty()"
   ]
  },
  {
   "cell_type": "code",
   "execution_count": 31,
   "metadata": {},
   "outputs": [
    {
     "name": "stdout",
     "output_type": "stream",
     "text": [
      "False\n"
     ]
    },
    {
     "data": {
      "text/plain": [
       "[[0, 0], [1, 0], [0, 1], [1, 1]]"
      ]
     },
     "execution_count": 31,
     "metadata": {},
     "output_type": "execute_result"
    }
   ],
   "source": [
    "q.enqueue([0,0])\n",
    "q.enqueue([0,1])\n",
    "q.enqueue([1,1])\n",
    "q.enqueue([1,0])\n",
    "print(q.is_empty())\n",
    "q.data"
   ]
  },
  {
   "cell_type": "code",
   "execution_count": 32,
   "metadata": {},
   "outputs": [],
   "source": [
    "class Edge:\n",
    "    def __init__(self,src, dest,weight=None) -> None:\n",
    "        self.src = src\n",
    "        self.dest = dest\n",
    "        self.weight = weight\n",
    "\n",
    "class WeightedGraph:\n",
    "    def __init__(self,V=0) -> None:\n",
    "        self.vertices = [[] for i in range(V)]\n",
    "    \n",
    "    def add_node(self,vertex,neighbour,weight):\n",
    "        self.vertices[vertex].append(Edge(src=vertex,\n",
    "                                              dest=neighbour,weight=weight))\n",
    "    \n",
    "    def get_neighbours(self,key):\n",
    "        return [(i.dest,i.weight) for i in self.vertices[key]]"
   ]
  },
  {
   "cell_type": "markdown",
   "metadata": {},
   "source": [
    "<img src=\"images/shortest_path_dijkstra.PNG\" width=\"300\">"
   ]
  },
  {
   "cell_type": "code",
   "execution_count": 33,
   "metadata": {},
   "outputs": [
    {
     "data": {
      "text/plain": [
       "[{'src': 0, 'dest': 1, 'weight': 2},\n",
       " {'src': 0, 'dest': 2, 'weight': 4},\n",
       " {'src': 1, 'dest': 2, 'weight': 1},\n",
       " {'src': 1, 'dest': 3, 'weight': 7},\n",
       " {'src': 2, 'dest': 4, 'weight': 3},\n",
       " {'src': 3, 'dest': 5, 'weight': 1},\n",
       " {'src': 4, 'dest': 3, 'weight': 2},\n",
       " {'src': 4, 'dest': 5, 'weight': 5}]"
      ]
     },
     "execution_count": 33,
     "metadata": {},
     "output_type": "execute_result"
    }
   ],
   "source": [
    "graph = WeightedGraph(V=6)\n",
    "\n",
    "graph.add_node(vertex=0,neighbour=1,weight=2)\n",
    "graph.add_node(vertex=0,neighbour=2,weight=4)\n",
    "\n",
    "graph.add_node(vertex=1,neighbour=2,weight=1)\n",
    "graph.add_node(vertex=1,neighbour=3,weight=7)\n",
    "\n",
    "graph.add_node(vertex=2,neighbour=4,weight=3)\n",
    "\n",
    "graph.add_node(vertex=3,neighbour=5,weight=1)\n",
    "\n",
    "graph.add_node(vertex=4,neighbour=3,weight=2)\n",
    "graph.add_node(vertex=4,neighbour=5,weight=5)\n",
    "\n",
    "[j.__dict__ for i in graph.vertices for j in i]"
   ]
  },
  {
   "cell_type": "code",
   "execution_count": 34,
   "metadata": {},
   "outputs": [],
   "source": [
    "PQ = PriorityQueue()\n",
    "PQ.enqueue([0,0])\n",
    "visited = [False for i in graph.vertices]\n",
    "dist = [float('inf') for i in graph.vertices]\n",
    "dist[0]=0"
   ]
  },
  {
   "cell_type": "code",
   "execution_count": 35,
   "metadata": {},
   "outputs": [
    {
     "name": "stdout",
     "output_type": "stream",
     "text": [
      "{'src': 0, 'dest': 1, 'weight': 2}\n",
      "[0, inf, inf, inf, inf, inf]\n",
      "u: 0\n",
      "v: 1\n",
      "dist[u]+e.weight: 2\n",
      "{'src': 0, 'dest': 2, 'weight': 4}\n",
      "[0, 2, inf, inf, inf, inf]\n",
      "u: 0\n",
      "v: 2\n",
      "dist[u]+e.weight: 4\n",
      "{'src': 1, 'dest': 2, 'weight': 1}\n",
      "[0, 2, 4, inf, inf, inf]\n",
      "u: 1\n",
      "v: 2\n",
      "dist[u]+e.weight: 3\n",
      "{'src': 1, 'dest': 3, 'weight': 7}\n",
      "[0, 2, 3, inf, inf, inf]\n",
      "u: 1\n",
      "v: 3\n",
      "dist[u]+e.weight: 9\n",
      "{'src': 2, 'dest': 4, 'weight': 3}\n",
      "[0, 2, 3, 9, inf, inf]\n",
      "u: 2\n",
      "v: 4\n",
      "dist[u]+e.weight: 6\n",
      "{'src': 4, 'dest': 3, 'weight': 2}\n",
      "[0, 2, 3, 9, 6, inf]\n",
      "u: 4\n",
      "v: 3\n",
      "dist[u]+e.weight: 8\n",
      "{'src': 4, 'dest': 5, 'weight': 5}\n",
      "[0, 2, 3, 8, 6, inf]\n",
      "u: 4\n",
      "v: 5\n",
      "dist[u]+e.weight: 11\n",
      "{'src': 3, 'dest': 5, 'weight': 1}\n",
      "[0, 2, 3, 8, 6, 11]\n",
      "u: 3\n",
      "v: 5\n",
      "dist[u]+e.weight: 9\n"
     ]
    }
   ],
   "source": [
    "while not PQ.is_empty():\n",
    "    node_,dist_ = PQ.dequeue()\n",
    "    if visited[node_]:\n",
    "        continue\n",
    "    visited[node_]=True\n",
    "    for e in graph.vertices[node_]:\n",
    "        print(e.__dict__)\n",
    "        print(dist)\n",
    "        u = e.src\n",
    "        v = e.dest\n",
    "        print('u:',u)\n",
    "        print('v:',v)\n",
    "        print('dist[u]+e.weight:',dist[u]+e.weight)\n",
    "        if dist[u]+e.weight<dist[v]:\n",
    "            dist[v] = dist[u]+e.weight\n",
    "            PQ.enqueue([v,dist[v]])\n",
    "        "
   ]
  },
  {
   "cell_type": "code",
   "execution_count": 36,
   "metadata": {},
   "outputs": [
    {
     "data": {
      "text/plain": [
       "[0, 2, 3, 8, 6, 9]"
      ]
     },
     "execution_count": 36,
     "metadata": {},
     "output_type": "execute_result"
    }
   ],
   "source": [
    "dist"
   ]
  },
  {
   "cell_type": "markdown",
   "metadata": {},
   "source": [
    "# **Bellman Ford Algorithm**\n",
    "- It is more better than Dijkstra's Algorithm.\n",
    "- Dijstra algo work better if edges weight is +ve.\n",
    "- Bellman Ford Algorithm works better for both +ve,-ve cases.\n",
    "- Dijkstra Algo is Greedy type algo.\n",
    "- Bellman Ford is DP(Dynamic Programming) type algo. \n",
    "- Time Complexity of Dijkstra < Time Complexity of BellmanFord\n",
    "- so if weights are +ve always chose Dijstra algo but, If -ve occurre always select Bellman Ford algo.\n",
    "- Dijkstra O(E+ElogV)\n",
    "- Bellman FOrd O(V.E)\n",
    "\n",
    "<img src=\"images/bellmanFord.PNG\" width=\"300\">"
   ]
  },
  {
   "cell_type": "code",
   "execution_count": 37,
   "metadata": {},
   "outputs": [
    {
     "data": {
      "text/plain": [
       "[(1, 2), (2, 4)]"
      ]
     },
     "execution_count": 37,
     "metadata": {},
     "output_type": "execute_result"
    }
   ],
   "source": [
    "graph = WeightedGraph(V=5)\n",
    "\n",
    "graph.add_node(vertex=0,neighbour=1,weight=2)\n",
    "graph.add_node(vertex=0,neighbour=2,weight=4)\n",
    "\n",
    "graph.add_node(vertex=1,neighbour=2,weight=-4)\n",
    "\n",
    "graph.add_node(vertex=2,neighbour=3,weight=2)\n",
    "\n",
    "graph.add_node(vertex=3,neighbour=4,weight=4)\n",
    "\n",
    "graph.add_node(vertex=4,neighbour=1,weight=-1)\n",
    "\n",
    "graph.get_neighbours(0)"
   ]
  },
  {
   "cell_type": "code",
   "execution_count": 38,
   "metadata": {},
   "outputs": [
    {
     "name": "stdout",
     "output_type": "stream",
     "text": [
      "dist: [0, inf, inf, inf, inf]\n",
      "dist: [0, 2, -2, 0, 4]\n"
     ]
    }
   ],
   "source": [
    "def bellmanFord(graph,src,V):\n",
    "    dist = [float('inf') if i!=src else 0 for i in range(V)]\n",
    "    print('dist:',dist)\n",
    "    for k in range(V-1):\n",
    "        for i in range(V):\n",
    "            for e in graph.vertices[i]:\n",
    "                u = e.src\n",
    "                v = e.dest\n",
    "                \n",
    "                if dist[u]+e.weight<dist[v]:\n",
    "                    dist[v] = dist[u]+e.weight\n",
    "    \n",
    "    print('dist:',dist)\n",
    "                \n",
    "bellmanFord(graph=graph,src=0,V=len(graph.vertices))\n",
    "    "
   ]
  },
  {
   "cell_type": "markdown",
   "metadata": {},
   "source": [
    "# **Minimum Spanning Tree(MST)**\n",
    "\n",
    "- Undirected, weighted and connected graph. otherwise MST not found\n",
    "- Is a subgraph. means small part of big graph.\n",
    "- which contains all vertices.\n",
    "- all verttices are connected.\n",
    "- cycles don't exists.\n",
    "- total edge weight is minimum. \n",
    "- any graph contains multiple Spanning Trees but we select minimum one.\n",
    "- Use **PRIM's Algorithm** to find MST\n",
    "\n",
    "\n",
    "<img src=\"images/MST.PNG\" width=\"600\">\n",
    "<img src=\"images/mst0.PNG\" width=\"300\">\n",
    "<img src=\"images/mst1.PNG\" width=\"300\">\n",
    "<img src=\"images/prims.PNG\" width=\"600\">\n",
    "<img src=\"images/mst2.PNG\" width=\"600\">"
   ]
  },
  {
   "cell_type": "code",
   "execution_count": 39,
   "metadata": {},
   "outputs": [
    {
     "data": {
      "text/plain": [
       "[(1, 10), (2, 15), (3, 30)]"
      ]
     },
     "execution_count": 39,
     "metadata": {},
     "output_type": "execute_result"
    }
   ],
   "source": [
    "graph = WeightedGraph(V=4)\n",
    "\n",
    "graph.add_node(vertex=0,neighbour=1,weight=10)\n",
    "graph.add_node(vertex=0,neighbour=2,weight=15)\n",
    "graph.add_node(vertex=0,neighbour=3,weight=30)\n",
    "\n",
    "graph.add_node(vertex=1,neighbour=0,weight=10)\n",
    "graph.add_node(vertex=1,neighbour=3,weight=40)\n",
    "\n",
    "graph.add_node(vertex=2,neighbour=0,weight=15)\n",
    "graph.add_node(vertex=2,neighbour=3,weight=50)\n",
    "\n",
    "graph.add_node(vertex=3,neighbour=0,weight=30)\n",
    "graph.add_node(vertex=3,neighbour=1,weight=40)\n",
    "graph.add_node(vertex=3,neighbour=2,weight=50)\n",
    "\n",
    "graph.get_neighbours(0)"
   ]
  },
  {
   "cell_type": "code",
   "execution_count": 40,
   "metadata": {},
   "outputs": [
    {
     "name": "stdout",
     "output_type": "stream",
     "text": [
      "empty: True\n",
      "empty: False\n"
     ]
    }
   ],
   "source": [
    "\"\"\"\n",
    "PQ stores data in pair form (node,cost) and everytime,\n",
    "return minimum cost based pair\n",
    "\"\"\"\n",
    "PQ = PriorityQueue()\n",
    "print('empty:',PQ.is_empty())\n",
    "\n",
    "#pick random source for now select 0 as source.\n",
    "PQ.enqueue([0,0])\n",
    "print('empty:',PQ.is_empty())"
   ]
  },
  {
   "cell_type": "code",
   "execution_count": 41,
   "metadata": {},
   "outputs": [],
   "source": [
    "visited = [False for i in graph.vertices]\n",
    "cost = 0\n",
    "nodes = []"
   ]
  },
  {
   "cell_type": "code",
   "execution_count": 42,
   "metadata": {},
   "outputs": [
    {
     "data": {
      "text/plain": [
       "(55, [0, 1, 2, 3])"
      ]
     },
     "execution_count": 42,
     "metadata": {},
     "output_type": "execute_result"
    }
   ],
   "source": [
    "while not PQ.is_empty():\n",
    "    current_node,current_weight = PQ.dequeue()\n",
    "    if not visited[current_node]:#node is not visited\n",
    "        visited[current_node]=True\n",
    "        nodes.append(current_node)\n",
    "        cost+=current_weight\n",
    "        for e in graph.vertices[current_node]:\n",
    "            if not visited[e.dest]:\n",
    "                PQ.enqueue([e.dest,e.weight])\n",
    "cost,nodes"
   ]
  },
  {
   "cell_type": "markdown",
   "metadata": {},
   "source": [
    "# **Strongly Connected Component**\n",
    "\n",
    "- Use **Kosaraju's Algorithm** to find SCC.\n",
    "\n",
    "\n",
    "<img src=\"images/scc.PNG\" width=\"600\">\n",
    "<img src=\"images/scc1.PNG\" width=\"600\">\n",
    "<img src=\"images/scc2.PNG\" width=\"600\">"
   ]
  },
  {
   "cell_type": "code",
   "execution_count": 72,
   "metadata": {},
   "outputs": [
    {
     "data": {
      "text/plain": [
       "[2, 3]"
      ]
     },
     "execution_count": 72,
     "metadata": {},
     "output_type": "execute_result"
    }
   ],
   "source": [
    "class Edge:\n",
    "    def __init__(self, src, dest) -> None:\n",
    "        self.src = src\n",
    "        self.dest = dest\n",
    "        \n",
    "class Graph:\n",
    "    def __init__(self,V=1):\n",
    "        self.vertices = [[] for i in range(V)]\n",
    "        self.V = V\n",
    "    def get_neighbours(self,key):\n",
    "        return [i.dest for i in self.vertices[key]]\n",
    "\n",
    "\n",
    "V=5\n",
    "graph = Graph(V=V)\n",
    "\n",
    "graph.vertices[0].append(Edge(src=0,dest=2))\n",
    "graph.vertices[0].append(Edge(src=0,dest=3))\n",
    "\n",
    "graph.vertices[1].append(Edge(src=1,dest=0))\n",
    "\n",
    "graph.vertices[2].append(Edge(src=2,dest=1))\n",
    "\n",
    "graph.vertices[3].append(Edge(src=3,dest=4))\n",
    "\n",
    "graph.get_neighbours(0)"
   ]
  },
  {
   "cell_type": "code",
   "execution_count": 76,
   "metadata": {},
   "outputs": [
    {
     "name": "stdout",
     "output_type": "stream",
     "text": [
      "input_graph[0]: [2, 3]\n",
      "input_graph[1]: [0]\n",
      "input_graph[2]: [1]\n",
      "input_graph[3]: [4]\n",
      "input_graph[4]: []\n",
      "------------------------------\n",
      "transpose[0]: [1]\n",
      "transpose[1]: [2]\n",
      "transpose[2]: [0]\n",
      "transpose[3]: [0]\n",
      "transpose[4]: [3]\n",
      "------------------------------\n",
      "0 \n",
      "1 \n",
      "2 \n",
      "-----\n",
      "3 \n",
      "-----\n",
      "4 \n",
      "-----\n"
     ]
    },
    {
     "data": {
      "text/plain": [
       "[[0, 1, 2], [3], [4]]"
      ]
     },
     "execution_count": 76,
     "metadata": {},
     "output_type": "execute_result"
    }
   ],
   "source": [
    "scc = []\n",
    "\n",
    "def toplogical_sort(graph,visited,current,stack):\n",
    "    visited[current] = True\n",
    "    \n",
    "    for i in graph.get_neighbours(current):\n",
    "        if not visited[i]:\n",
    "            toplogical_sort(graph,visited,i,stack)\n",
    "    stack.push(current)\n",
    "\n",
    "def DFS(graph,current,visited):\n",
    "    visited[current] = True\n",
    "    scc[-1].append(current)\n",
    "    print(f\"{current} \")\n",
    "    for i in graph.get_neighbours(current):\n",
    "        if not visited[i]:\n",
    "            DFS(graph=graph,current=i,visited=visited)\n",
    "\n",
    "def kosaraju(graph,V):\n",
    "    # step 1. creat stack of topsort\n",
    "    visited = [False for i in range(V)]\n",
    "    stack = Stack()\n",
    "    for idx,node_visited in enumerate(visited):\n",
    "        if not node_visited:\n",
    "            toplogical_sort(graph,visited,idx,stack) \n",
    "            \n",
    "    # step 2. transpose of graph\n",
    "    tranpose_graph = Graph(V=V)\n",
    "    for v in graph.vertices:\n",
    "        for e in v:\n",
    "            # print(e.src)\n",
    "            # print(e.dest)\n",
    "            tranpose_graph.vertices[e.dest].append(Edge(src=e.dest,dest=e.src))\n",
    "    for i in range(V):\n",
    "        print(f'input_graph[{i}]:',graph.get_neighbours(i))\n",
    "    print('-'*30)\n",
    "    for i in range(V):\n",
    "        print(f'transpose[{i}]:',tranpose_graph.get_neighbours(i))\n",
    "    print('-'*30)    \n",
    "    # step 3. apply DFS on transposed according to step 1.\n",
    "    visited = [False for i in visited]\n",
    "    while not stack.is_empty():\n",
    "        current = stack.pop()\n",
    "        if not visited[current]:\n",
    "            scc.append([])\n",
    "            DFS(graph=tranpose_graph,current=current,visited=visited)\n",
    "            print('-----')\n",
    "        \n",
    "\n",
    "kosaraju(graph=graph,V=V)\n",
    "scc"
   ]
  },
  {
   "cell_type": "code",
   "execution_count": null,
   "metadata": {},
   "outputs": [],
   "source": []
  },
  {
   "cell_type": "code",
   "execution_count": null,
   "metadata": {},
   "outputs": [],
   "source": []
  },
  {
   "cell_type": "code",
   "execution_count": null,
   "metadata": {},
   "outputs": [],
   "source": []
  }
 ],
 "metadata": {
  "kernelspec": {
   "display_name": "base",
   "language": "python",
   "name": "python3"
  },
  "language_info": {
   "codemirror_mode": {
    "name": "ipython",
    "version": 3
   },
   "file_extension": ".py",
   "mimetype": "text/x-python",
   "name": "python",
   "nbconvert_exporter": "python",
   "pygments_lexer": "ipython3",
   "version": "3.8.8"
  }
 },
 "nbformat": 4,
 "nbformat_minor": 2
}
