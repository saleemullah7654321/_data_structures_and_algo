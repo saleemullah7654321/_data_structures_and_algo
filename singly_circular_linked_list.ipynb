{
 "cells": [
  {
   "cell_type": "code",
   "execution_count": 1,
   "metadata": {},
   "outputs": [],
   "source": [
    "class Node:\n",
    "    def __init__(self,data):\n",
    "        self.data = data\n",
    "        self.next = None"
   ]
  },
  {
   "cell_type": "code",
   "execution_count": 65,
   "metadata": {},
   "outputs": [],
   "source": [
    "class SCLinkedList:\n",
    "    def __init__(self):\n",
    "        self.head = None\n",
    "        self.tail = None\n",
    "        self.__len = 0\n",
    "    \n",
    "    def append(self,data):\n",
    "        new_node = Node(data=data)\n",
    "        if self.head is None:\n",
    "            self.head = new_node\n",
    "            new_node.next=self.head\n",
    "            self.tail = self.head\n",
    "        else:\n",
    "            self.tail.next = new_node\n",
    "            new_node.next=self.head\n",
    "            self.tail = new_node\n",
    "        self.__len+=1\n",
    "        \n",
    "    def prepend(self,data):\n",
    "        new_node = Node(data=data)\n",
    "        new_node.next=self.head\n",
    "        self.head = new_node\n",
    "        self.tail.next=self.head\n",
    "        self.__len+=1\n",
    "       \n",
    "    def insert(self, index, data):\n",
    "        if index<=0:\n",
    "            self.prepend(data=data)\n",
    "        elif index>=self.__len:\n",
    "            self.append(data=data)\n",
    "        else:\n",
    "            current_node = self.head\n",
    "            for i in range(index-1):\n",
    "                current_node=current_node.next\n",
    "            new_node = Node(data=data)\n",
    "            new_node.next = current_node.next\n",
    "            current_node.next = new_node\n",
    "            self.__len+=1\n",
    "\n",
    "    def __delitem__(self, index):\n",
    "        if index<0 or index>=self.__len:\n",
    "            raise IndexError('list addignment index out of range')\n",
    "        if index==0:\n",
    "            if self.__len>1:\n",
    "                self.head = self.head.next\n",
    "                self.tail.next = self.head\n",
    "            else:\n",
    "                self.head=None\n",
    "                self.tail=None\n",
    "        else:\n",
    "            current_node = self.head\n",
    "            for i in range(index-1):\n",
    "                current_node = current_node.next\n",
    "            print(current_node.data)\n",
    "            current_node.next = current_node.next.next\n",
    "            if index == self.__len-1:\n",
    "                self.tail = current_node\n",
    "        self.__len-=1\n",
    "              \n",
    "    def remove(self,data):\n",
    "        if self.head is None or self.__len==0:\n",
    "            raise ValueError(f\"{data} not in list\")\n",
    "        current_node = self.head\n",
    "        counter = 0\n",
    "        prev_node = None\n",
    "        while True:\n",
    "            if current_node.data==data:\n",
    "                break\n",
    "            counter+=1\n",
    "            prev_node = current_node\n",
    "            current_node = current_node.next\n",
    "            if current_node == self.head:\n",
    "                raise ValueError(f\"{data} not in list\")\n",
    "            \n",
    "        if counter==0:\n",
    "            if self.__len>1:\n",
    "                self.head = self.head.next\n",
    "                self.tail.next = self.head\n",
    "            else:\n",
    "                self.head=None\n",
    "                self.tail=None\n",
    "        else:\n",
    "            prev_node.next = current_node.next\n",
    "            if counter == self.__len-1:\n",
    "                self.tail = prev_node\n",
    "        self.__len-=1\n",
    "        \n",
    "    def display(self):\n",
    "        data=[]\n",
    "        if self.head is None:\n",
    "            print(data)\n",
    "            return\n",
    "        current_node = self.head\n",
    "        while True:\n",
    "            data.append(current_node.data)\n",
    "            current_node = current_node.next\n",
    "            if current_node==self.head:\n",
    "                break\n",
    "        print(data)\n",
    "          \n",
    "    def __getitem__(self,index):\n",
    "        if index>=self.__len or index<0:\n",
    "            raise IndexError(f\"list index out of range\")\n",
    "        current_node = self.head\n",
    "        for i in range(index):\n",
    "            current_node = current_node.next\n",
    "        return current_node.data\n",
    "           \n",
    "    def indexOf(self,data):\n",
    "        if self.head is None:\n",
    "            raise ValueError(f\"{data} is not in list\") \n",
    "        counter = 0\n",
    "        current_node = self.head\n",
    "        while True:\n",
    "            if current_node.data == data:\n",
    "                return counter\n",
    "            counter+=1\n",
    "            current_node = current_node.next\n",
    "            if current_node == self.head:\n",
    "                raise ValueError(f\"{data} is not in list\") \n",
    "                \n",
    "    def __len__(self):\n",
    "        return self.__len\n",
    "    \n",
    "    def clear(self):\n",
    "        self.head=None\n",
    "        self.tail=None\n",
    "        self.__len=0\n",
    "        \n",
    "    def isEmpty(self):\n",
    "        return self.head is None\n",
    "        \n",
    "    def reverse(self):\n",
    "        if self.head is None or self.head.next is None:\n",
    "            return\n",
    "        current_node = self.head\n",
    "        previous_node=self.tail\n",
    "        self.tail = current_node\n",
    "        while True:\n",
    "            remiaining_list = current_node.next\n",
    "            current_node.next = previous_node\n",
    "            previous_node = current_node\n",
    "            current_node = remiaining_list\n",
    "            if current_node == self.head:\n",
    "                break\n",
    "        self.head = previous_node\n",
    "        self.tail.next = self.head\n",
    "        \n",
    "    def check_types_and_compare(self,v1,v2):\n",
    "        if str(v1).isdigit() and str(v2).isdigit():\n",
    "            return v1>v2\n",
    "        return str(v1)>str(v2)\n",
    "        \n",
    "    def sort(self, ascending=True):\n",
    "        current_node = self.head\n",
    "        prev_node = None\n",
    "        for i in range(self.__len-1):\n",
    "            if self.check_types_and_compare(current_node.data,current_node.next.data):\n",
    "                if prev_node:\n",
    "                    temp= current_node\n",
    "                    prev_node.next = current_node.next\n",
    "                    current_node = \n",
    "                "
   ]
  },
  {
   "cell_type": "code",
   "execution_count": 42,
   "metadata": {},
   "outputs": [
    {
     "name": "stdout",
     "output_type": "stream",
     "text": [
      "['c', 'a', 'd', 12, 1, 1, 3, 2, 1, 11]\n"
     ]
    },
    {
     "data": {
      "text/plain": [
       "10"
      ]
     },
     "execution_count": 42,
     "metadata": {},
     "output_type": "execute_result"
    }
   ],
   "source": [
    "list = SCLinkedList()\n",
    "list.append('c')\n",
    "list.append('a')\n",
    "list.append('d')\n",
    "list.append(12)\n",
    "list.append(1)\n",
    "list.append(1)\n",
    "list.append(3)\n",
    "list.append(2)\n",
    "list.append(1)\n",
    "list.append(11)\n",
    "list.display()\n",
    "len(list)"
   ]
  },
  {
   "cell_type": "code",
   "execution_count": 54,
   "metadata": {},
   "outputs": [
    {
     "name": "stdout",
     "output_type": "stream",
     "text": [
      "[11, 1, 2, 3, 1, 1, 12, 'd', 'a', 'c']\n"
     ]
    }
   ],
   "source": [
    "list.reverse()\n",
    "list.display()"
   ]
  },
  {
   "cell_type": "code",
   "execution_count": 55,
   "metadata": {},
   "outputs": [
    {
     "name": "stdout",
     "output_type": "stream",
     "text": [
      "[10, 11, 1, 2, 3, 1, 1, 12, 'd', 'a', 'c']\n"
     ]
    },
    {
     "data": {
      "text/plain": [
       "11"
      ]
     },
     "execution_count": 55,
     "metadata": {},
     "output_type": "execute_result"
    }
   ],
   "source": [
    "list.prepend(10)\n",
    "list.display()\n",
    "len(list)"
   ]
  },
  {
   "cell_type": "code",
   "execution_count": 56,
   "metadata": {},
   "outputs": [
    {
     "name": "stdout",
     "output_type": "stream",
     "text": [
      "[10, 100, 11, 1, 2, 3, 1, 1, 12, 'd', 'a', 'c']\n"
     ]
    },
    {
     "data": {
      "text/plain": [
       "12"
      ]
     },
     "execution_count": 56,
     "metadata": {},
     "output_type": "execute_result"
    }
   ],
   "source": [
    "list.insert(1,100)\n",
    "list.display()\n",
    "len(list)"
   ]
  },
  {
   "cell_type": "code",
   "execution_count": 57,
   "metadata": {},
   "outputs": [
    {
     "name": "stdout",
     "output_type": "stream",
     "text": [
      "[10, 100, 11, 1, 2, 3, 1, 1, 12, 'd', 'a', 'c', 1000]\n"
     ]
    },
    {
     "data": {
      "text/plain": [
       "13"
      ]
     },
     "execution_count": 57,
     "metadata": {},
     "output_type": "execute_result"
    }
   ],
   "source": [
    "list.append(1000)\n",
    "list.display()\n",
    "len(list)\n"
   ]
  },
  {
   "cell_type": "code",
   "execution_count": 58,
   "metadata": {},
   "outputs": [
    {
     "name": "stdout",
     "output_type": "stream",
     "text": [
      "[10, 100, 11, 1, 10, 2, 3, 1, 1, 12, 'd', 'a', 'c', 1000]\n"
     ]
    },
    {
     "data": {
      "text/plain": [
       "14"
      ]
     },
     "execution_count": 58,
     "metadata": {},
     "output_type": "execute_result"
    }
   ],
   "source": [
    "list.insert(4,10)\n",
    "list.display()\n",
    "len(list)\n"
   ]
  },
  {
   "cell_type": "code",
   "execution_count": 59,
   "metadata": {},
   "outputs": [
    {
     "name": "stdout",
     "output_type": "stream",
     "text": [
      "10\n",
      "[10, 11, 1, 10, 2, 3, 1, 1, 12, 'd', 'a', 'c', 1000]\n"
     ]
    },
    {
     "data": {
      "text/plain": [
       "13"
      ]
     },
     "execution_count": 59,
     "metadata": {},
     "output_type": "execute_result"
    }
   ],
   "source": [
    "del list[1]\n",
    "list.display()\n",
    "len(list)"
   ]
  },
  {
   "cell_type": "code",
   "execution_count": 60,
   "metadata": {},
   "outputs": [
    {
     "name": "stdout",
     "output_type": "stream",
     "text": [
      "[10, 11, 1, 10, 3, 1, 1, 12, 'd', 'a', 'c', 1000]\n"
     ]
    },
    {
     "data": {
      "text/plain": [
       "12"
      ]
     },
     "execution_count": 60,
     "metadata": {},
     "output_type": "execute_result"
    }
   ],
   "source": [
    "list.remove(2)\n",
    "list.display()\n",
    "len(list)"
   ]
  },
  {
   "cell_type": "code",
   "execution_count": 61,
   "metadata": {},
   "outputs": [
    {
     "name": "stdout",
     "output_type": "stream",
     "text": [
      "10\n"
     ]
    }
   ],
   "source": [
    "print(list[0])"
   ]
  },
  {
   "cell_type": "code",
   "execution_count": 62,
   "metadata": {},
   "outputs": [
    {
     "data": {
      "text/plain": [
       "11"
      ]
     },
     "execution_count": 62,
     "metadata": {},
     "output_type": "execute_result"
    }
   ],
   "source": [
    "list.indexOf(1000)"
   ]
  },
  {
   "cell_type": "code",
   "execution_count": 63,
   "metadata": {},
   "outputs": [
    {
     "name": "stdout",
     "output_type": "stream",
     "text": [
      "[10, 11, 1, 10, 3, 1, 1, 12, 'd', 'a', 'c', 1000]\n"
     ]
    },
    {
     "data": {
      "text/plain": [
       "False"
      ]
     },
     "execution_count": 63,
     "metadata": {},
     "output_type": "execute_result"
    }
   ],
   "source": [
    "list.display()\n",
    "list.isEmpty()"
   ]
  },
  {
   "cell_type": "code",
   "execution_count": 64,
   "metadata": {},
   "outputs": [
    {
     "name": "stdout",
     "output_type": "stream",
     "text": [
      "[]\n"
     ]
    }
   ],
   "source": [
    "list.clear()\n",
    "list.display()"
   ]
  },
  {
   "cell_type": "code",
   "execution_count": null,
   "metadata": {},
   "outputs": [],
   "source": []
  }
 ],
 "metadata": {
  "kernelspec": {
   "display_name": "base",
   "language": "python",
   "name": "python3"
  },
  "language_info": {
   "codemirror_mode": {
    "name": "ipython",
    "version": 3
   },
   "file_extension": ".py",
   "mimetype": "text/x-python",
   "name": "python",
   "nbconvert_exporter": "python",
   "pygments_lexer": "ipython3",
   "version": "3.8.8"
  }
 },
 "nbformat": 4,
 "nbformat_minor": 2
}
