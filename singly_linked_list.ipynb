{
 "cells": [
  {
   "cell_type": "code",
   "execution_count": null,
   "metadata": {},
   "outputs": [],
   "source": [
    "class Node:\n",
    "    def __init__(self,data) -> None:\n",
    "        self.data = data\n",
    "        self.next = None"
   ]
  },
  {
   "cell_type": "code",
   "execution_count": null,
   "metadata": {},
   "outputs": [],
   "source": [
    "class LinkedList:\n",
    "    def __init__(self):\n",
    "        self.head = None\n",
    "        self.__len = 0\n",
    "    \n",
    "    def append(self,data):\n",
    "        new_node = Node(data=data)\n",
    "        self.__len+=1\n",
    "        if self.head is None:\n",
    "            self.head = new_node\n",
    "            return\n",
    "        current_node = self.head\n",
    "        while current_node.next:\n",
    "            current_node = current_node.next\n",
    "        current_node.next = new_node\n",
    "    \n",
    "    def prepend(self,data):\n",
    "        self.__len+=1\n",
    "        new_node = Node(data=data)\n",
    "        new_node.next = self.head\n",
    "        self.head = new_node\n",
    " \n",
    "    def insert(self,index,data):\n",
    "        self.__len+=1\n",
    "        index = max(0,index)            \n",
    "        index = min(self.__len,index)            \n",
    "        new_node = Node(data=data)\n",
    "        current_node = self.head\n",
    "        previous_node = None\n",
    "        for i in range(0,index):\n",
    "            previous_node = current_node\n",
    "            current_node = current_node.next\n",
    "        if previous_node:\n",
    "            previous_node.next = new_node\n",
    "            new_node.next = current_node\n",
    "        else:\n",
    "            self.head = new_node\n",
    "            new_node.next = current_node\n",
    "            \n",
    "    def __delitem__(self,index):\n",
    "        if self.head is None or index>=self.__len or index<0:\n",
    "            raise IndexError('list assignment index out of range')\n",
    "        self.__len-=1\n",
    "        if index==0:\n",
    "            self.head=self.head.next\n",
    "            return\n",
    "        current_node = self.head\n",
    "        previous_node = None\n",
    "        for i in range(index):\n",
    "            previous_node = current_node\n",
    "            current_node = current_node.next\n",
    "        previous_node.next = current_node.next\n",
    "    \n",
    "    def remove(self,data):\n",
    "        if self.head is None:\n",
    "            raise ValueError(f\"{data} not in list\")\n",
    "        current_node = self.head\n",
    "        previous_node = None\n",
    "        while current_node:\n",
    "            if current_node.data==data:\n",
    "                if previous_node:\n",
    "                    previous_node.next = current_node.next\n",
    "                else:\n",
    "                    self.head = current_node.next\n",
    "                self.__len-=1\n",
    "                return\n",
    "            previous_node=current_node\n",
    "            current_node = current_node.next\n",
    "        raise ValueError(f\"{data} not in list\")\n",
    "    \n",
    "    def display(self):\n",
    "        if self.head is None:\n",
    "            print([])\n",
    "            return\n",
    "        data=[]\n",
    "        current_node = self.head\n",
    "        while current_node:\n",
    "            data.append(current_node.data)\n",
    "            current_node = current_node.next\n",
    "        print(data)\n",
    "    \n",
    "    def __getitem__(self,index):\n",
    "        if self.head is None or index>=self.__len or index<0:\n",
    "            raise IndexError('list assignment index out of range')\n",
    "        \n",
    "        if index==0:\n",
    "            return self.head.data\n",
    "        current_node = self.head\n",
    "        for i in range(index):\n",
    "            current_node = current_node.next\n",
    "        return current_node.data\n",
    "    \n",
    "    def indexOf(self,data):\n",
    "        if self.head is None:\n",
    "            raise ValueError(f'{data} is not in list')\n",
    "        current_node = self.head\n",
    "        counter = 0\n",
    "        while current_node:\n",
    "            if current_node.data==data:\n",
    "                return counter\n",
    "            counter+=1\n",
    "            current_node = current_node.next\n",
    "        raise ValueError(f'{data} is not in list')\n",
    "    \n",
    "    def __len__(self):\n",
    "        return self.__len\n",
    "    \n",
    "    def clear(self):\n",
    "        self.head=None\n",
    "        self.__len=0\n",
    "        \n",
    "    def isEmpty(self):\n",
    "        return self.head == None\n",
    "\n",
    "    def reverse(self):\n",
    "        if self.head is None or self.head.next is None:\n",
    "            return\n",
    "        current_node = self.head\n",
    "        prev_node = None\n",
    "        while current_node:\n",
    "            next_node = current_node.next\n",
    "            current_node.next = prev_node\n",
    "            prev_node = current_node\n",
    "            current_node=next_node   \n",
    "        self.head = prev_node\n",
    "    \n",
    "    def check_types_and_compare(self,v1,v2):\n",
    "        if str(v1).isdigit() and str(v2).isdigit():\n",
    "            return v1>v2\n",
    "        return str(v1)>str(v2)\n",
    "                \n",
    "    def sort(self, ascending=True):\n",
    "        if self.head is None or self.head.next is None:\n",
    "            return\n",
    "\n",
    "        swapped = True\n",
    "        while swapped:\n",
    "            swapped = False\n",
    "            prev_node = None\n",
    "            current_node = self.head\n",
    "\n",
    "            while current_node.next:\n",
    "                next_node = current_node.next\n",
    "                if self.check_types_and_compare(current_node.data, next_node.data):\n",
    "                    swapped = True\n",
    "                    if prev_node:\n",
    "                        prev_node.next = next_node\n",
    "                    else:\n",
    "                        self.head = next_node\n",
    "                    current_node.next = next_node.next\n",
    "                    next_node.next = current_node\n",
    "                    prev_node = next_node\n",
    "                else:\n",
    "                    prev_node = current_node\n",
    "                    current_node = current_node.next\n",
    "\n",
    "        if not ascending:\n",
    "            self.reverse()"
   ]
  },
  {
   "cell_type": "code",
   "execution_count": null,
   "metadata": {},
   "outputs": [],
   "source": [
    "list = LinkedList()\n",
    "list.append('c')\n",
    "list.append('a')\n",
    "list.append('d')\n",
    "list.append(12)\n",
    "list.append(1)\n",
    "list.append(1)\n",
    "list.append(3)\n",
    "list.append(2)\n",
    "list.append(1)\n",
    "list.append(11)\n",
    "list.display()\n",
    "len(list)"
   ]
  },
  {
   "cell_type": "code",
   "execution_count": null,
   "metadata": {},
   "outputs": [],
   "source": [
    "list.sort(ascending=True)\n",
    "list.display()"
   ]
  },
  {
   "cell_type": "code",
   "execution_count": null,
   "metadata": {},
   "outputs": [],
   "source": [
    "list.sort(ascending=False)\n",
    "list.display()"
   ]
  },
  {
   "cell_type": "code",
   "execution_count": null,
   "metadata": {},
   "outputs": [],
   "source": [
    "list.prepend(10)\n",
    "list.display()"
   ]
  },
  {
   "cell_type": "code",
   "execution_count": null,
   "metadata": {},
   "outputs": [],
   "source": [
    "list.insert(1,100)\n",
    "list.display()"
   ]
  },
  {
   "cell_type": "code",
   "execution_count": null,
   "metadata": {},
   "outputs": [],
   "source": [
    "list.reverse()\n",
    "list.display()"
   ]
  },
  {
   "cell_type": "code",
   "execution_count": null,
   "metadata": {},
   "outputs": [],
   "source": [
    "print('len:',len(list))"
   ]
  },
  {
   "cell_type": "code",
   "execution_count": null,
   "metadata": {},
   "outputs": [],
   "source": [
    "del list[0]\n",
    "list.display()\n",
    "print('len:',len(list))"
   ]
  },
  {
   "cell_type": "code",
   "execution_count": null,
   "metadata": {},
   "outputs": [],
   "source": [
    "del list[1]\n",
    "list.display()\n",
    "print('len:',len(list))"
   ]
  },
  {
   "cell_type": "code",
   "execution_count": null,
   "metadata": {},
   "outputs": [],
   "source": [
    "list[0]"
   ]
  },
  {
   "cell_type": "code",
   "execution_count": null,
   "metadata": {},
   "outputs": [],
   "source": [
    "print('indexof(100)',list.indexOf(100))"
   ]
  },
  {
   "cell_type": "code",
   "execution_count": null,
   "metadata": {},
   "outputs": [],
   "source": [
    "list.remove(100)\n",
    "list.display()"
   ]
  },
  {
   "cell_type": "code",
   "execution_count": null,
   "metadata": {},
   "outputs": [],
   "source": [
    "list.display()\n",
    "list.isEmpty()"
   ]
  },
  {
   "cell_type": "code",
   "execution_count": null,
   "metadata": {},
   "outputs": [],
   "source": [
    "list.clear()\n",
    "list.display()"
   ]
  },
  {
   "cell_type": "code",
   "execution_count": null,
   "metadata": {},
   "outputs": [],
   "source": [
    "list.isEmpty()"
   ]
  },
  {
   "cell_type": "code",
   "execution_count": null,
   "metadata": {},
   "outputs": [],
   "source": []
  }
 ],
 "metadata": {
  "kernelspec": {
   "display_name": "base",
   "language": "python",
   "name": "python3"
  },
  "language_info": {
   "codemirror_mode": {
    "name": "ipython",
    "version": 3
   },
   "file_extension": ".py",
   "mimetype": "text/x-python",
   "name": "python",
   "nbconvert_exporter": "python",
   "pygments_lexer": "ipython3",
   "version": "3.8.8"
  }
 },
 "nbformat": 4,
 "nbformat_minor": 2
}
