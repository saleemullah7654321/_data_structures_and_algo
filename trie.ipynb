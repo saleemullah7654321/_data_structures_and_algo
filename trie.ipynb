{
 "cells": [
  {
   "cell_type": "code",
   "execution_count": 2,
   "metadata": {},
   "outputs": [],
   "source": [
    "class Node:\n",
    "    def __init__(self,val='',eow=False) -> None:\n",
    "        self.val = val\n",
    "        self.eow = eow\n",
    "        self.children = {}\n",
    "    \n",
    "    def __getitem__(self,key):\n",
    "        return self.children.get(key)\n",
    "\n",
    "class Trie:\n",
    "    def __init__(self) -> None:\n",
    "        self.root = Node()\n",
    "        \n",
    "    def insert(self,word):\n",
    "        word = str(word).lower().strip()\n",
    "        if not word:\n",
    "            return\n",
    "        current_node = self.root\n",
    "        for i in word:\n",
    "            node = current_node[i]\n",
    "            if not node:\n",
    "                node = Node(i)\n",
    "                current_node.children[i] = node\n",
    "            current_node = node\n",
    "        current_node.eow = True\n",
    "    \n",
    "    def search(self,word):\n",
    "        word = str(word).lower().strip()\n",
    "        if not word:\n",
    "            return False\n",
    "        current_node = self.root\n",
    "        for i in word:\n",
    "            node = current_node[i]\n",
    "            if not node:\n",
    "                return False\n",
    "            current_node = node\n",
    "        return current_node.eow\n",
    "        \n",
    "    "
   ]
  },
  {
   "cell_type": "code",
   "execution_count": 3,
   "metadata": {},
   "outputs": [
    {
     "name": "stdout",
     "output_type": "stream",
     "text": [
      "saleem: True\n",
      "test: False\n"
     ]
    }
   ],
   "source": [
    "trie = Trie()\n",
    "trie.insert('saleem')\n",
    "print('saleem:',trie.search('saleem'))\n",
    "print('test:',trie.search('test'))"
   ]
  },
  {
   "cell_type": "code",
   "execution_count": 4,
   "metadata": {},
   "outputs": [
    {
     "data": {
      "text/plain": [
       "['i', 'like', 'samsung']"
      ]
     },
     "execution_count": 4,
     "metadata": {},
     "output_type": "execute_result"
    }
   ],
   "source": [
    "def google_problem(words,text):\n",
    "    trie = Trie()\n",
    "    [trie.insert(i) for i in words]\n",
    "    results = []\n",
    "    while text:\n",
    "        long_word = ''\n",
    "        temp_text = ''\n",
    "        count = 1\n",
    "        for idx,i in enumerate(text):\n",
    "            temp_text+=i\n",
    "            if trie.search(temp_text):\n",
    "                long_word = temp_text\n",
    "                count = idx+1\n",
    "        if long_word:\n",
    "            results.append(long_word)\n",
    "        text = text[count:]\n",
    "    return results\n",
    "\n",
    "words = ['i','like','sam','samsung','mobile']\n",
    "text = 'ilikesamsung'\n",
    "google_problem(words=words, text=text)"
   ]
  },
  {
   "cell_type": "code",
   "execution_count": 5,
   "metadata": {},
   "outputs": [
    {
     "name": "stdout",
     "output_type": "stream",
     "text": [
      "app ['app']\n",
      "moon []\n"
     ]
    }
   ],
   "source": [
    "words = ['apple','app','mobile']\n",
    "text = 'app'\n",
    "print(text,google_problem(words=words, text=text))\n",
    "text = 'moon'\n",
    "print(text,google_problem(words=words, text=text))"
   ]
  },
  {
   "cell_type": "code",
   "execution_count": 6,
   "metadata": {},
   "outputs": [
    {
     "name": "stdout",
     "output_type": "stream",
     "text": [
      "prefix:  ['', 'a', 'ap', 'app', 'appl', 'apple']\n",
      "suffix:  ['apple', 'pple', 'ple', 'le', 'e', '']\n",
      "10 ['', 'a', 'ab', 'b', 'aba', 'ba', 'abab', 'bab', 'ababa', 'baba']\n",
      "10 ['', 'a', 'ab', 'aba', 'abab', 'ababa', 'b', 'ba', 'bab', 'baba']\n"
     ]
    },
    {
     "data": {
      "text/plain": [
       "10"
      ]
     },
     "execution_count": 6,
     "metadata": {},
     "output_type": "execute_result"
    }
   ],
   "source": [
    "#possible unique sub-strings\n",
    "#1 solution is find unique prefix of all suffix of string or vice versa\n",
    "def get_prefix(text):\n",
    "    return [text[:i] for i in range(0,len(text)+1)]\n",
    "\n",
    "def get_suffix(text):\n",
    "    return [text[i:] for i in range(0,len(text)+1)]\n",
    "\n",
    "print('prefix: ', get_prefix('apple'))\n",
    "print('suffix: ', get_suffix('apple'))\n",
    "\n",
    "# unique prefix of all suffix\n",
    "result = []\n",
    "for i in get_prefix('ababa'):\n",
    "    for j in get_suffix(i):\n",
    "        if j not in result:\n",
    "            result.append(j)\n",
    "print(len(result),result)\n",
    "\n",
    "# unique suffix of all prefix\n",
    "result = []\n",
    "for i in get_suffix('ababa'):\n",
    "    for j in get_prefix(i):\n",
    "        if j not in result:\n",
    "            result.append(j)\n",
    "print(len(result),result)\n",
    "\n",
    "# use tries for all uniques substrings\n",
    "# reason for use suffix is that we know that tries is prefix based so, unique prefix of all suffix gives unique substrings\n",
    "trie = Trie()\n",
    "[trie.insert(i) for i in get_suffix('ababa')]\n",
    "def get_all(node):\n",
    "    counter = 0\n",
    "    def traversal(node):\n",
    "        nonlocal counter\n",
    "        if not node:\n",
    "            return\n",
    "        counter+=1\n",
    "        for i in node.children.values():\n",
    "            traversal(i)\n",
    "    traversal(node=node)\n",
    "    return counter\n",
    "    \n",
    "get_all(trie.root)"
   ]
  },
  {
   "cell_type": "code",
   "execution_count": 56,
   "metadata": {},
   "outputs": [
    {
     "data": {
      "text/plain": [
       "'apple'"
      ]
     },
     "execution_count": 56,
     "metadata": {},
     "output_type": "execute_result"
    }
   ],
   "source": [
    "# longest word with all prefixes\n",
    "words = ['a','ap','app','appl','apple','apply','banana']\n",
    "trie = Trie()\n",
    "_ = [trie.insert(word) for word in words]\n",
    "\n",
    "main_val = []\n",
    "def longest_word(current , temp_val=[]):\n",
    "    if not current:\n",
    "        return\n",
    "    for name,node in current.children.items():\n",
    "        if node.eow:\n",
    "            temp_val.append(name)\n",
    "            if len(temp_val)> len(main_val):\n",
    "                main_val[:] = temp_val\n",
    "            longest_word(node,temp_val)\n",
    "            temp_val = temp_val[:-1]\n",
    "    return ''.join(main_val)\n",
    "longest_word(trie.root,main_val)"
   ]
  },
  {
   "cell_type": "code",
   "execution_count": 57,
   "metadata": {},
   "outputs": [
    {
     "data": {
      "text/plain": [
       "['apple', 'apply']"
      ]
     },
     "execution_count": 57,
     "metadata": {},
     "output_type": "execute_result"
    }
   ],
   "source": [
    "# longest word with all prefixes\n",
    "words = ['a','ap','app','appl','apple','apply','banana']\n",
    "trie = Trie()\n",
    "_ = [trie.insert(word) for word in words]\n",
    "\n",
    "main_val = []\n",
    "main_val_list=[]\n",
    "def longest_word(current , temp_val=[]):\n",
    "    if not current:\n",
    "        return\n",
    "    for name,node in current.children.items():\n",
    "        if node.eow:\n",
    "            temp_val.append(name)\n",
    "            if len(temp_val)>= len(main_val):\n",
    "                main_val_list.append(''.join(temp_val))\n",
    "            if len(temp_val)> len(main_val):\n",
    "                main_val[:] = temp_val\n",
    "            longest_word(node,temp_val)\n",
    "            temp_val = temp_val[:-1]\n",
    "    final_ans = ''.join(main_val)\n",
    "    return list(filter(lambda x:len(x)>=len(final_ans),main_val_list))\n",
    "longest_word(trie.root,main_val)"
   ]
  },
  {
   "cell_type": "code",
   "execution_count": null,
   "metadata": {},
   "outputs": [],
   "source": []
  },
  {
   "cell_type": "code",
   "execution_count": null,
   "metadata": {},
   "outputs": [],
   "source": []
  },
  {
   "cell_type": "code",
   "execution_count": null,
   "metadata": {},
   "outputs": [],
   "source": []
  }
 ],
 "metadata": {
  "kernelspec": {
   "display_name": "base",
   "language": "python",
   "name": "python3"
  },
  "language_info": {
   "codemirror_mode": {
    "name": "ipython",
    "version": 3
   },
   "file_extension": ".py",
   "mimetype": "text/x-python",
   "name": "python",
   "nbconvert_exporter": "python",
   "pygments_lexer": "ipython3",
   "version": "3.8.8"
  }
 },
 "nbformat": 4,
 "nbformat_minor": 2
}
